{
 "cells": [
  {
   "cell_type": "code",
   "execution_count": null,
   "id": "4a192fe6",
   "metadata": {
    "vscode": {
     "languageId": "plaintext"
    }
   },
   "outputs": [],
   "source": [
    "import pandas as pd\n",
    "import numpy as np\n",
    "\n",
    "#LOADING THE DATA\n",
    "df=pd.read_csv(r\"C:\\Users\\riya choudhary\\OneDrive\\Desktop\\Python dataset\\smart_city_data.csv\")\n",
    "\n",
    "#PREVIEW THE DATA\n",
    "df.info()\n",
    "print('\\n',df.head())\n",
    "print(\"\\nShape of the data (rows, columns):\",df.shape)\n",
    "print(\"\\nData types of columns:\\n\",df.dtypes)\n",
    "print(\"\\nDimension of the dataset:\",df.ndim)\n",
    "\n",
    "#SUMMARY STATISTICS\n",
    "print(\"\\nSummary Statistics:\\n\",df.describe())\n",
    "\n",
    "#CHECKING FOR MISSING VALUES\n",
    "print(\"\\nMissing values:\")\n",
    "print(df.isnull().sum())\n",
    "\n",
    "#CHECKING FOR DUPLICATES\n",
    "print(\"\\nDuplicate values:\")\n",
    "print(df.duplicated().sum())\n",
    "\n",
    "#EXPLORING CATEGORICAL COLUMNS\n",
    "# Unique values and frequency for each categorical column\n",
    "print(\"\\nTop Cities with Most Records:\\n\", df['City_State'].value_counts().head(10))\n",
    "print(\"\\nUnique Cities:\", df['City_State'].nunique())\n",
    "\n",
    "print(\"\\nTraffic Incident Types:\\n\", df['Traffic_Incident'].value_counts())\n",
    "print(\"\\nUnique Traffic Incidents:\", df['Traffic_Incident'].nunique())\n",
    "\n",
    "print(\"\\nWeather Conditions:\\n\", df['Weather_Condition'].value_counts())\n",
    "print(\"\\nUnique Weather Conditions:\", df['Weather_Condition'].nunique())\n"
   ]
  }
 ],
 "metadata": {
  "language_info": {
   "name": "python"
  }
 },
 "nbformat": 4,
 "nbformat_minor": 5
}
